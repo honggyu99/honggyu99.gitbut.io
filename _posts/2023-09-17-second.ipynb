{
 "cells": [
  {
   "cell_type": "code",
   "execution_count": null,
   "id": "3ddec0f7",
   "metadata": {},
   "outputs": [],
   "source": [
    "System.out.println(\"Hi\");"
   ]
  },
  {
   "cell_type": "code",
   "execution_count": null,
   "id": "9e9170d2",
   "metadata": {},
   "outputs": [],
   "source": [
    "Test.main(new String[0])"
   ]
  },
  {
   "cell_type": "code",
   "execution_count": null,
   "id": "3cbd1342",
   "metadata": {},
   "outputs": [],
   "source": []
  },
  {
   "cell_type": "code",
   "execution_count": null,
   "id": "b641ad4b",
   "metadata": {},
   "outputs": [],
   "source": [
    "String blogAddr = \"latte-ishorse.tistory.com\";\n",
    "System.out."
   ]
  }
 ],
 "metadata": {
  "kernelspec": {
   "display_name": "Java",
   "language": "java",
   "name": "java"
  }
 },
 "nbformat": 4,
 "nbformat_minor": 5
}
